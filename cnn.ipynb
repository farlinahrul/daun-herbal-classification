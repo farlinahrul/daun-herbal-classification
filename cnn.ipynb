{
 "cells": [
  {
   "cell_type": "code",
   "execution_count": 1,
   "id": "f1876000",
   "metadata": {},
   "outputs": [],
   "source": [
    "from sklearn.model_selection import train_test_split\n",
    "from sklearn.preprocessing import LabelEncoder\n",
    "from sklearn.metrics import classification_report\n",
    "from tensorflow.keras.models import Sequential\n",
    "from tensorflow.keras.layers import InputLayer, Flatten, Dense, Conv2D, MaxPool2D, Dropout, MaxPooling2D\n",
    "from tensorflow.keras.optimizers import Adam\n",
    "import numpy as np\n",
    "import cv2\n",
    "import glob\n",
    "import matplotlib.pyplot as plt\n",
    "\n",
    "import time\n",
    "import os\n",
    "from keras.layers.advanced_activations import LeakyReLU"
   ]
  },
  {
   "cell_type": "code",
   "execution_count": 2,
   "id": "aedb2fb0",
   "metadata": {},
   "outputs": [
    {
     "name": "stdout",
     "output_type": "stream",
     "text": [
      "[INFO] loading images...\n",
      "Files and directories in a specified path:\n",
      "F:\\PROJECTS\\AI non github\\new\\seledri\n",
      "F:\\PROJECTS\\AI non github\\new\\sirih\n",
      "Time taken: 4.8 seconds\n",
      "done\n"
     ]
    }
   ],
   "source": [
    "# initialize the data and labels\n",
    "print(\"[INFO] loading images...\")\n",
    "time1 = time.time()   # to measure time taken\n",
    "data = []\n",
    "labels = []\n",
    "\n",
    "path = r\"F:\\PROJECTS\\AI non github\\new\"\n",
    "print(\"Files and directories in a specified path:\")\n",
    "for dirname in os.listdir(path):\n",
    "    dirpath = os.path.join(path, dirname)\n",
    "    print(dirpath)\n",
    "    for filename in os.listdir(dirpath):\n",
    "        f = os.path.join(dirpath, filename)\n",
    "        # load the image, resize the image to be 32x32 pixels (ignoring aspect ratio), \n",
    "        image = cv2.imread(f)\n",
    "        image = cv2.resize(image, (32, 32))\n",
    "        data.append(image)\n",
    "\n",
    "        # update label list\n",
    "        labels.append(dirname)\n",
    "        \n",
    "# scale the raw pixel intensities to the range [0, 1]\n",
    "data = np.array(data, dtype=\"float\") / 255.0\n",
    "labels = np.array(labels)\n",
    "\n",
    "print('Time taken: {:.1f} seconds'.format(time.time() - time1))   # to measure time taken\n",
    "print(\"done\")"
   ]
  },
  {
   "cell_type": "code",
   "execution_count": 3,
   "id": "7d91e24f",
   "metadata": {},
   "outputs": [
    {
     "data": {
      "text/plain": [
       "(140, 32, 32, 3)"
      ]
     },
     "execution_count": 3,
     "metadata": {},
     "output_type": "execute_result"
    }
   ],
   "source": [
    "np.array(data).shape"
   ]
  },
  {
   "cell_type": "code",
   "execution_count": 4,
   "id": "c4b42236",
   "metadata": {},
   "outputs": [
    {
     "name": "stdout",
     "output_type": "stream",
     "text": [
      "['seledri' 'seledri' 'seledri' 'seledri' 'seledri' 'seledri' 'seledri'\n",
      " 'seledri' 'seledri' 'seledri' 'seledri' 'seledri' 'seledri' 'seledri'\n",
      " 'seledri' 'seledri' 'seledri' 'seledri' 'seledri' 'seledri' 'seledri'\n",
      " 'seledri' 'seledri' 'seledri' 'seledri' 'seledri' 'seledri' 'seledri'\n",
      " 'seledri' 'seledri' 'seledri' 'seledri' 'seledri' 'seledri' 'seledri'\n",
      " 'seledri' 'seledri' 'seledri' 'seledri' 'seledri' 'seledri' 'seledri'\n",
      " 'seledri' 'seledri' 'seledri' 'seledri' 'seledri' 'seledri' 'seledri'\n",
      " 'seledri' 'seledri' 'seledri' 'seledri' 'seledri' 'seledri' 'seledri'\n",
      " 'seledri' 'seledri' 'seledri' 'seledri' 'seledri' 'seledri' 'seledri'\n",
      " 'seledri' 'seledri' 'seledri' 'seledri' 'seledri' 'seledri' 'seledri'\n",
      " 'seledri' 'seledri' 'seledri' 'seledri' 'seledri' 'seledri' 'seledri'\n",
      " 'seledri' 'seledri' 'seledri' 'seledri' 'seledri' 'seledri' 'seledri'\n",
      " 'seledri' 'seledri' 'seledri' 'seledri' 'seledri' 'seledri' 'sirih'\n",
      " 'sirih' 'sirih' 'sirih' 'sirih' 'sirih' 'sirih' 'sirih' 'sirih' 'sirih'\n",
      " 'sirih' 'sirih' 'sirih' 'sirih' 'sirih' 'sirih' 'sirih' 'sirih' 'sirih'\n",
      " 'sirih' 'sirih' 'sirih' 'sirih' 'sirih' 'sirih' 'sirih' 'sirih' 'sirih'\n",
      " 'sirih' 'sirih' 'sirih' 'sirih' 'sirih' 'sirih' 'sirih' 'sirih' 'sirih'\n",
      " 'sirih' 'sirih' 'sirih' 'sirih' 'sirih' 'sirih' 'sirih' 'sirih' 'sirih'\n",
      " 'sirih' 'sirih' 'sirih' 'sirih']\n"
     ]
    }
   ],
   "source": [
    "print(labels)"
   ]
  },
  {
   "cell_type": "code",
   "execution_count": 5,
   "id": "ec0f6b59",
   "metadata": {},
   "outputs": [
    {
     "name": "stdout",
     "output_type": "stream",
     "text": [
      "[0 0 0 0 0 0 0 0 0 0 0 0 0 0 0 0 0 0 0 0 0 0 0 0 0 0 0 0 0 0 0 0 0 0 0 0 0\n",
      " 0 0 0 0 0 0 0 0 0 0 0 0 0 0 0 0 0 0 0 0 0 0 0 0 0 0 0 0 0 0 0 0 0 0 0 0 0\n",
      " 0 0 0 0 0 0 0 0 0 0 0 0 0 0 0 0 1 1 1 1 1 1 1 1 1 1 1 1 1 1 1 1 1 1 1 1 1\n",
      " 1 1 1 1 1 1 1 1 1 1 1 1 1 1 1 1 1 1 1 1 1 1 1 1 1 1 1 1 1]\n"
     ]
    }
   ],
   "source": [
    "# ubah nilai dari labels menjadi binary\n",
    "lb = LabelEncoder()\n",
    "labels = lb.fit_transform(labels)\n",
    "print(labels)"
   ]
  },
  {
   "cell_type": "code",
   "execution_count": 6,
   "id": "c1aca10b",
   "metadata": {},
   "outputs": [],
   "source": [
    "x_train, x_test, y_train, y_test = train_test_split(data, labels, test_size=0.2, random_state=42)"
   ]
  },
  {
   "cell_type": "code",
   "execution_count": 7,
   "id": "2c25825f",
   "metadata": {},
   "outputs": [
    {
     "name": "stdout",
     "output_type": "stream",
     "text": [
      "Ukuran data train = (112, 32, 32, 3)\n",
      "Ukuran data test = (28, 32, 32, 3)\n"
     ]
    }
   ],
   "source": [
    "print('Ukuran data train =', x_train.shape)\n",
    "print('Ukuran data test =', x_test.shape)"
   ]
  },
  {
   "cell_type": "code",
   "execution_count": 8,
   "id": "82e74438",
   "metadata": {},
   "outputs": [],
   "source": [
    "# model = Sequential()\n",
    "# # Extracted Feature Layer\n",
    "# model.add(InputLayer(input_shape=[32,32,3]))\n",
    "# model.add(Conv2D(filters=32, kernel_size=2, strides=1, padding='same', activation='relu'))\n",
    "# model.add(MaxPool2D(pool_size=2, padding='same'))\n",
    "# model.add(Conv2D(filters=50, kernel_size=2, strides=1, padding='same', activation='relu'))\n",
    "# model.add(MaxPool2D(pool_size=2, padding='same'))\n",
    "# model.add(Conv2D(filters=50, kernel_size=2, strides=1, padding='same', activation='selu'))\n",
    "# model.add(MaxPool2D(pool_size=2, padding='same'))\n",
    "# model.add(Dropout(0.25))\n",
    "# model.add(Flatten())\n",
    "# # Fully Connected Layer\n",
    "# model.add(Dense(1024, activation=\"relu\")) \n",
    "# model.add(Dense(512, activation='relu'))\n",
    "# model.add(Dropout(0.5))\n",
    "# model.add(Dense(1, activation='sigmoid'))\n",
    "\n",
    "# model = Sequential()\n",
    "# model.add(Conv2D(32, (3,3), activation='relu', input_shape=(32, 32, 3)))\n",
    "# model.add(MaxPool2D(2, 2))\n",
    "# model.add(Conv2D(50, (3,3), activation='relu'))\n",
    "# model.add(MaxPool2D(2,2))\n",
    "# model.add(Conv2D(50, (3,3), activation='relu'))\n",
    "# model.add(MaxPool2D(2,2))\n",
    "# # model.add(Conv2D(128, (3,3), activation='relu'))\n",
    "# # model.add(MaxPool2D(2,2))\n",
    "# model.add(Flatten())\n",
    "# model.add(Dense(1024, activation='relu'))\n",
    "# model.add(Dense(512, activation='relu'))\n",
    "# model.add(Dense(1, activation='sigmoid'))\n",
    "model = Sequential()\n",
    "model.add(Conv2D(32, kernel_size=(3, 3),activation='relu',input_shape=(32,32,3),padding='same'))\n",
    "model.add(LeakyReLU(alpha=0.1))\n",
    "model.add(MaxPooling2D((2, 2),padding='same'))\n",
    "model.add(Conv2D(64, (3, 3), activation='relu',padding='same'))\n",
    "model.add(LeakyReLU(alpha=0.1))\n",
    "model.add(MaxPooling2D(pool_size=(2, 2),padding='same'))\n",
    "model.add(Conv2D(128, (3, 3), activation='linear',padding='same'))\n",
    "model.add(LeakyReLU(alpha=0.1))                  \n",
    "model.add(MaxPooling2D(pool_size=(2, 2),padding='same'))\n",
    "model.add(Flatten())\n",
    "model.add(Dense(512, activation='linear'))\n",
    "model.add(Dense(128, activation='linear'))\n",
    "model.add(LeakyReLU(alpha=0.1))                  \n",
    "model.add(Dense(1, activation='sigmoid'))"
   ]
  },
  {
   "cell_type": "code",
   "execution_count": 9,
   "id": "81ae6c81",
   "metadata": {},
   "outputs": [
    {
     "name": "stdout",
     "output_type": "stream",
     "text": [
      "Model: \"sequential\"\n",
      "_________________________________________________________________\n",
      " Layer (type)                Output Shape              Param #   \n",
      "=================================================================\n",
      " conv2d (Conv2D)             (None, 32, 32, 32)        896       \n",
      "                                                                 \n",
      " leaky_re_lu (LeakyReLU)     (None, 32, 32, 32)        0         \n",
      "                                                                 \n",
      " max_pooling2d (MaxPooling2D  (None, 16, 16, 32)       0         \n",
      " )                                                               \n",
      "                                                                 \n",
      " conv2d_1 (Conv2D)           (None, 16, 16, 64)        18496     \n",
      "                                                                 \n",
      " leaky_re_lu_1 (LeakyReLU)   (None, 16, 16, 64)        0         \n",
      "                                                                 \n",
      " max_pooling2d_1 (MaxPooling  (None, 8, 8, 64)         0         \n",
      " 2D)                                                             \n",
      "                                                                 \n",
      " conv2d_2 (Conv2D)           (None, 8, 8, 128)         73856     \n",
      "                                                                 \n",
      " leaky_re_lu_2 (LeakyReLU)   (None, 8, 8, 128)         0         \n",
      "                                                                 \n",
      " max_pooling2d_2 (MaxPooling  (None, 4, 4, 128)        0         \n",
      " 2D)                                                             \n",
      "                                                                 \n",
      " flatten (Flatten)           (None, 2048)              0         \n",
      "                                                                 \n",
      " dense (Dense)               (None, 512)               1049088   \n",
      "                                                                 \n",
      " dense_1 (Dense)             (None, 128)               65664     \n",
      "                                                                 \n",
      " leaky_re_lu_3 (LeakyReLU)   (None, 128)               0         \n",
      "                                                                 \n",
      " dense_2 (Dense)             (None, 1)                 129       \n",
      "                                                                 \n",
      "=================================================================\n",
      "Total params: 1,208,129\n",
      "Trainable params: 1,208,129\n",
      "Non-trainable params: 0\n",
      "_________________________________________________________________\n"
     ]
    }
   ],
   "source": [
    "model.summary()"
   ]
  },
  {
   "cell_type": "code",
   "execution_count": 10,
   "id": "5abf4cd5",
   "metadata": {},
   "outputs": [],
   "source": [
    "# tentukan hyperparameter\n",
    "lr = 0.001\n",
    "max_epochs = 60\n",
    "opt_funct = Adam(learning_rate=lr)"
   ]
  },
  {
   "cell_type": "code",
   "execution_count": 11,
   "id": "e8899211",
   "metadata": {},
   "outputs": [],
   "source": [
    "# compile arsitektur yang telah dibuat\n",
    "model.compile(loss = 'binary_crossentropy', \n",
    "              optimizer = opt_funct, \n",
    "              metrics = ['accuracy'])"
   ]
  },
  {
   "cell_type": "code",
   "execution_count": 12,
   "id": "82681f00",
   "metadata": {},
   "outputs": [
    {
     "name": "stdout",
     "output_type": "stream",
     "text": [
      "Epoch 1/60\n",
      "4/4 [==============================] - 2s 152ms/step - loss: 0.6861 - accuracy: 0.6250 - val_loss: 0.6601 - val_accuracy: 0.5714\n",
      "Epoch 2/60\n",
      "4/4 [==============================] - 0s 62ms/step - loss: 0.6057 - accuracy: 0.6607 - val_loss: 0.6245 - val_accuracy: 0.5714\n",
      "Epoch 3/60\n",
      "4/4 [==============================] - 0s 61ms/step - loss: 0.5212 - accuracy: 0.6696 - val_loss: 0.5751 - val_accuracy: 0.5714\n",
      "Epoch 4/60\n",
      "4/4 [==============================] - 0s 61ms/step - loss: 0.4093 - accuracy: 0.8125 - val_loss: 0.3329 - val_accuracy: 0.8929\n",
      "Epoch 5/60\n",
      "4/4 [==============================] - 0s 62ms/step - loss: 0.2166 - accuracy: 0.9375 - val_loss: 0.2205 - val_accuracy: 0.9286\n",
      "Epoch 6/60\n",
      "4/4 [==============================] - 0s 62ms/step - loss: 0.1116 - accuracy: 0.9643 - val_loss: 0.1761 - val_accuracy: 0.9286\n",
      "Epoch 7/60\n",
      "4/4 [==============================] - 0s 61ms/step - loss: 0.1168 - accuracy: 0.9375 - val_loss: 0.1351 - val_accuracy: 0.9286\n",
      "Epoch 8/60\n",
      "4/4 [==============================] - 0s 62ms/step - loss: 0.1270 - accuracy: 0.9554 - val_loss: 0.3881 - val_accuracy: 0.8929\n",
      "Epoch 9/60\n",
      "4/4 [==============================] - 0s 61ms/step - loss: 0.0592 - accuracy: 0.9911 - val_loss: 0.1110 - val_accuracy: 0.9286\n",
      "Epoch 10/60\n",
      "4/4 [==============================] - 0s 61ms/step - loss: 0.0989 - accuracy: 0.9821 - val_loss: 0.1193 - val_accuracy: 0.9643\n",
      "Epoch 11/60\n",
      "4/4 [==============================] - 0s 62ms/step - loss: 0.0356 - accuracy: 0.9821 - val_loss: 0.1815 - val_accuracy: 0.8929\n",
      "Epoch 12/60\n",
      "4/4 [==============================] - 0s 61ms/step - loss: 0.0330 - accuracy: 0.9911 - val_loss: 0.0600 - val_accuracy: 0.9643\n",
      "Epoch 13/60\n",
      "4/4 [==============================] - 0s 61ms/step - loss: 0.0264 - accuracy: 0.9911 - val_loss: 0.2104 - val_accuracy: 0.8929\n",
      "Epoch 14/60\n",
      "4/4 [==============================] - 0s 61ms/step - loss: 0.0176 - accuracy: 1.0000 - val_loss: 0.0418 - val_accuracy: 1.0000\n",
      "Epoch 15/60\n",
      "4/4 [==============================] - 0s 64ms/step - loss: 0.0212 - accuracy: 0.9911 - val_loss: 0.0309 - val_accuracy: 1.0000\n",
      "Epoch 16/60\n",
      "4/4 [==============================] - 0s 61ms/step - loss: 0.0039 - accuracy: 1.0000 - val_loss: 0.1774 - val_accuracy: 0.8929\n",
      "Epoch 17/60\n",
      "4/4 [==============================] - 0s 61ms/step - loss: 0.0117 - accuracy: 1.0000 - val_loss: 0.0522 - val_accuracy: 0.9643\n",
      "Epoch 18/60\n",
      "4/4 [==============================] - 0s 62ms/step - loss: 0.0031 - accuracy: 1.0000 - val_loss: 0.0187 - val_accuracy: 1.0000\n",
      "Epoch 19/60\n",
      "4/4 [==============================] - 0s 63ms/step - loss: 0.0021 - accuracy: 1.0000 - val_loss: 0.0174 - val_accuracy: 1.0000\n",
      "Epoch 20/60\n",
      "4/4 [==============================] - 0s 62ms/step - loss: 7.0367e-04 - accuracy: 1.0000 - val_loss: 0.0333 - val_accuracy: 1.0000\n",
      "Epoch 21/60\n",
      "4/4 [==============================] - 0s 61ms/step - loss: 5.2737e-04 - accuracy: 1.0000 - val_loss: 0.0529 - val_accuracy: 0.9643\n",
      "Epoch 22/60\n",
      "4/4 [==============================] - 0s 61ms/step - loss: 6.0568e-04 - accuracy: 1.0000 - val_loss: 0.0569 - val_accuracy: 0.9643\n",
      "Epoch 23/60\n",
      "4/4 [==============================] - 0s 61ms/step - loss: 5.2951e-04 - accuracy: 1.0000 - val_loss: 0.0482 - val_accuracy: 0.9643\n",
      "Epoch 24/60\n",
      "4/4 [==============================] - 0s 61ms/step - loss: 3.7699e-04 - accuracy: 1.0000 - val_loss: 0.0289 - val_accuracy: 1.0000\n",
      "Epoch 25/60\n",
      "4/4 [==============================] - 0s 62ms/step - loss: 2.5410e-04 - accuracy: 1.0000 - val_loss: 0.0191 - val_accuracy: 1.0000\n",
      "Epoch 26/60\n",
      "4/4 [==============================] - 0s 62ms/step - loss: 2.4079e-04 - accuracy: 1.0000 - val_loss: 0.0149 - val_accuracy: 1.0000\n",
      "Epoch 27/60\n",
      "4/4 [==============================] - 0s 62ms/step - loss: 2.3205e-04 - accuracy: 1.0000 - val_loss: 0.0138 - val_accuracy: 1.0000\n",
      "Epoch 28/60\n",
      "4/4 [==============================] - 0s 63ms/step - loss: 2.0402e-04 - accuracy: 1.0000 - val_loss: 0.0142 - val_accuracy: 1.0000\n",
      "Epoch 29/60\n",
      "4/4 [==============================] - 0s 62ms/step - loss: 1.8387e-04 - accuracy: 1.0000 - val_loss: 0.0169 - val_accuracy: 1.0000\n",
      "Epoch 30/60\n",
      "4/4 [==============================] - 0s 64ms/step - loss: 1.3789e-04 - accuracy: 1.0000 - val_loss: 0.0191 - val_accuracy: 1.0000\n",
      "Epoch 31/60\n",
      "4/4 [==============================] - 0s 63ms/step - loss: 1.2692e-04 - accuracy: 1.0000 - val_loss: 0.0218 - val_accuracy: 1.0000\n",
      "Epoch 32/60\n",
      "4/4 [==============================] - 0s 69ms/step - loss: 1.1814e-04 - accuracy: 1.0000 - val_loss: 0.0235 - val_accuracy: 1.0000\n",
      "Epoch 33/60\n",
      "4/4 [==============================] - 0s 64ms/step - loss: 1.1147e-04 - accuracy: 1.0000 - val_loss: 0.0240 - val_accuracy: 1.0000\n",
      "Epoch 34/60\n",
      "4/4 [==============================] - 0s 74ms/step - loss: 1.0486e-04 - accuracy: 1.0000 - val_loss: 0.0242 - val_accuracy: 1.0000\n",
      "Epoch 35/60\n",
      "4/4 [==============================] - 0s 62ms/step - loss: 9.9516e-05 - accuracy: 1.0000 - val_loss: 0.0238 - val_accuracy: 1.0000\n",
      "Epoch 36/60\n",
      "4/4 [==============================] - 0s 73ms/step - loss: 9.4397e-05 - accuracy: 1.0000 - val_loss: 0.0227 - val_accuracy: 1.0000\n",
      "Epoch 37/60\n",
      "4/4 [==============================] - 0s 64ms/step - loss: 8.9058e-05 - accuracy: 1.0000 - val_loss: 0.0217 - val_accuracy: 1.0000\n",
      "Epoch 38/60\n",
      "4/4 [==============================] - 0s 65ms/step - loss: 8.5211e-05 - accuracy: 1.0000 - val_loss: 0.0205 - val_accuracy: 1.0000\n",
      "Epoch 39/60\n",
      "4/4 [==============================] - 0s 63ms/step - loss: 8.1145e-05 - accuracy: 1.0000 - val_loss: 0.0196 - val_accuracy: 1.0000\n",
      "Epoch 40/60\n",
      "4/4 [==============================] - 0s 62ms/step - loss: 7.8976e-05 - accuracy: 1.0000 - val_loss: 0.0187 - val_accuracy: 1.0000\n",
      "Epoch 41/60\n",
      "4/4 [==============================] - 0s 68ms/step - loss: 7.6015e-05 - accuracy: 1.0000 - val_loss: 0.0189 - val_accuracy: 1.0000\n",
      "Epoch 42/60\n",
      "4/4 [==============================] - 0s 66ms/step - loss: 7.2903e-05 - accuracy: 1.0000 - val_loss: 0.0189 - val_accuracy: 1.0000\n",
      "Epoch 43/60\n",
      "4/4 [==============================] - 0s 62ms/step - loss: 7.0093e-05 - accuracy: 1.0000 - val_loss: 0.0193 - val_accuracy: 1.0000\n",
      "Epoch 44/60\n",
      "4/4 [==============================] - 0s 61ms/step - loss: 6.7897e-05 - accuracy: 1.0000 - val_loss: 0.0196 - val_accuracy: 1.0000\n",
      "Epoch 45/60\n",
      "4/4 [==============================] - 0s 66ms/step - loss: 6.5849e-05 - accuracy: 1.0000 - val_loss: 0.0202 - val_accuracy: 1.0000\n",
      "Epoch 46/60\n",
      "4/4 [==============================] - 0s 73ms/step - loss: 6.3525e-05 - accuracy: 1.0000 - val_loss: 0.0205 - val_accuracy: 1.0000\n",
      "Epoch 47/60\n",
      "4/4 [==============================] - 0s 62ms/step - loss: 6.1722e-05 - accuracy: 1.0000 - val_loss: 0.0206 - val_accuracy: 1.0000\n",
      "Epoch 48/60\n",
      "4/4 [==============================] - 0s 72ms/step - loss: 5.9839e-05 - accuracy: 1.0000 - val_loss: 0.0206 - val_accuracy: 1.0000\n",
      "Epoch 49/60\n",
      "4/4 [==============================] - 0s 69ms/step - loss: 5.8009e-05 - accuracy: 1.0000 - val_loss: 0.0198 - val_accuracy: 1.0000\n",
      "Epoch 50/60\n",
      "4/4 [==============================] - 0s 64ms/step - loss: 5.6063e-05 - accuracy: 1.0000 - val_loss: 0.0196 - val_accuracy: 1.0000\n",
      "Epoch 51/60\n",
      "4/4 [==============================] - 0s 63ms/step - loss: 5.4376e-05 - accuracy: 1.0000 - val_loss: 0.0191 - val_accuracy: 1.0000\n",
      "Epoch 52/60\n",
      "4/4 [==============================] - 0s 62ms/step - loss: 5.3028e-05 - accuracy: 1.0000 - val_loss: 0.0185 - val_accuracy: 1.0000\n",
      "Epoch 53/60\n",
      "4/4 [==============================] - 0s 63ms/step - loss: 5.1560e-05 - accuracy: 1.0000 - val_loss: 0.0179 - val_accuracy: 1.0000\n",
      "Epoch 54/60\n",
      "4/4 [==============================] - 0s 62ms/step - loss: 4.9990e-05 - accuracy: 1.0000 - val_loss: 0.0178 - val_accuracy: 1.0000\n",
      "Epoch 55/60\n",
      "4/4 [==============================] - 0s 65ms/step - loss: 4.8922e-05 - accuracy: 1.0000 - val_loss: 0.0176 - val_accuracy: 1.0000\n",
      "Epoch 56/60\n",
      "4/4 [==============================] - 0s 69ms/step - loss: 4.7506e-05 - accuracy: 1.0000 - val_loss: 0.0176 - val_accuracy: 1.0000\n",
      "Epoch 57/60\n",
      "4/4 [==============================] - 0s 67ms/step - loss: 4.6317e-05 - accuracy: 1.0000 - val_loss: 0.0174 - val_accuracy: 1.0000\n",
      "Epoch 58/60\n"
     ]
    },
    {
     "name": "stdout",
     "output_type": "stream",
     "text": [
      "4/4 [==============================] - 0s 64ms/step - loss: 4.5162e-05 - accuracy: 1.0000 - val_loss: 0.0173 - val_accuracy: 1.0000\n",
      "Epoch 59/60\n",
      "4/4 [==============================] - 0s 65ms/step - loss: 4.3904e-05 - accuracy: 1.0000 - val_loss: 0.0173 - val_accuracy: 1.0000\n",
      "Epoch 60/60\n",
      "4/4 [==============================] - 0s 65ms/step - loss: 4.2807e-05 - accuracy: 1.0000 - val_loss: 0.0175 - val_accuracy: 1.0000\n"
     ]
    }
   ],
   "source": [
    "H = model.fit(x_train, y_train, validation_data=(x_test, y_test), \n",
    "          epochs=max_epochs, batch_size=32)"
   ]
  },
  {
   "cell_type": "code",
   "execution_count": 13,
   "id": "d0b11f95",
   "metadata": {},
   "outputs": [
    {
     "data": {
      "image/png": "[encoded data removed]",
      "text/plain": [
       "<Figure size 432x288 with 1 Axes>"
      ]
     },
     "metadata": {},
     "output_type": "display_data"
    }
   ],
   "source": [
    "N = np.arange(0, max_epochs)\n",
    "plt.style.use(\"ggplot\")\n",
    "plt.figure()\n",
    "plt.plot(N, H.history[\"loss\"], label=\"train_loss\")\n",
    "plt.plot(N, H.history[\"val_loss\"], label=\"val_loss\")\n",
    "#plt.plot(N, H.history[\"accuracy\"], label=\"train_acc\")\n",
    "#plt.plot(N, H.history[\"val_accuracy\"], label=\"val_acc\")\n",
    "plt.xlabel(\"Epoch #\")\n",
    "plt.legend()\n",
    "plt.show()"
   ]
  },
  {
   "cell_type": "code",
   "execution_count": 14,
   "id": "81866b64",
   "metadata": {},
   "outputs": [
    {
     "data": {
      "image/png": "[encoded data removed]",
      "text/plain": [
       "<Figure size 432x288 with 1 Axes>"
      ]
     },
     "metadata": {},
     "output_type": "display_data"
    }
   ],
   "source": [
    "N = np.arange(0, max_epochs)\n",
    "plt.style.use(\"ggplot\")\n",
    "plt.figure()\n",
    "# plt.plot(N, H.history[\"loss\"], label=\"train_loss\")\n",
    "# plt.plot(N, H.history[\"val_loss\"], label=\"val_loss\")\n",
    "plt.plot(N, H.history[\"accuracy\"], label=\"train_acc\")\n",
    "plt.plot(N, H.history[\"val_accuracy\"], label=\"val_acc\")\n",
    "plt.xlabel(\"Epoch #\")\n",
    "plt.legend()\n",
    "plt.show()"
   ]
  },
  {
   "cell_type": "code",
   "execution_count": 15,
   "id": "a7903ecb",
   "metadata": {},
   "outputs": [
    {
     "name": "stdout",
     "output_type": "stream",
     "text": [
      "              precision    recall  f1-score   support\n",
      "\n",
      "       sirih       1.00      1.00      1.00        16\n",
      "     seledri       1.00      1.00      1.00        12\n",
      "\n",
      "    accuracy                           1.00        28\n",
      "   macro avg       1.00      1.00      1.00        28\n",
      "weighted avg       1.00      1.00      1.00        28\n",
      "\n"
     ]
    },
    {
     "name": "stderr",
     "output_type": "stream",
     "text": [
      "<ipython-input-15-71eec67b4b63>:5: DeprecationWarning: `np.int` is a deprecated alias for the builtin `int`. To silence this warning, use `int` by itself. Doing this will not modify any behavior and is safe. When replacing `np.int`, you may wish to use e.g. `np.int64` or `np.int32` to specify the precision. If you wish to review your current use, check the release note link for additional information.\n",
      "Deprecated in NumPy 1.20; for more details and guidance: https://numpy.org/devdocs/release/1.20.0-notes.html#deprecations\n",
      "  target = (predictions > 0.5).astype(np.int)\n"
     ]
    }
   ],
   "source": [
    "label_list = ['sirih', 'seledri']\n",
    "\n",
    "# check acccuracy model for data test\n",
    "predictions = model.predict(x_test, batch_size=32)\n",
    "target = (predictions > 0.5).astype(np.int)\n",
    "print(classification_report(y_test, target, target_names=label_list))"
   ]
  },
  {
   "cell_type": "code",
   "execution_count": 34,
   "id": "a40836de",
   "metadata": {},
   "outputs": [],
   "source": [
    "query = cv2.imread(\"F:\\\\PROJECTS\\\\AI\\\\Dataset\\\\sirih.jpg\")"
   ]
  },
  {
   "cell_type": "code",
   "execution_count": 35,
   "id": "4511bf75",
   "metadata": {},
   "outputs": [
    {
     "name": "stdout",
     "output_type": "stream",
     "text": [
      "[[6.892097e-07]]\n"
     ]
    }
   ],
   "source": [
    "# uji model menggunakan image lain\n",
    "# query = cv2.imread(queryPath)\n",
    "output = query.copy()\n",
    "query = cv2.resize(query, (32, 32))\n",
    "q = []\n",
    "q.append(query)\n",
    "q = np.array(q, dtype='float') / 255.0\n",
    "\n",
    "q_pred = model.predict(q)\n",
    "print(q_pred)"
   ]
  },
  {
   "cell_type": "code",
   "execution_count": 36,
   "id": "c5f41ab1",
   "metadata": {},
   "outputs": [
    {
     "name": "stdout",
     "output_type": "stream",
     "text": [
      "Seledri\n"
     ]
    },
    {
     "ename": "error",
     "evalue": "OpenCV(4.5.4-dev) D:\\a\\opencv-python\\opencv-python\\opencv\\modules\\highgui\\src\\window_w32.cpp:1261: error: (-27:Null pointer) NULL window: 'Output' in function 'cvDestroyWindow'\n",
     "output_type": "error",
     "traceback": [
      "\u001b[1;31m---------------------------------------------------------------------------\u001b[0m",
      "\u001b[1;31merror\u001b[0m                                     Traceback (most recent call last)",
      "\u001b[1;32m<ipython-input-36-556f8728bd34>\u001b[0m in \u001b[0;36m<module>\u001b[1;34m\u001b[0m\n\u001b[0;32m      9\u001b[0m \u001b[0mcv2\u001b[0m\u001b[1;33m.\u001b[0m\u001b[0mimshow\u001b[0m\u001b[1;33m(\u001b[0m\u001b[1;34m'Output'\u001b[0m\u001b[1;33m,\u001b[0m \u001b[0moutput\u001b[0m\u001b[1;33m)\u001b[0m\u001b[1;33m\u001b[0m\u001b[1;33m\u001b[0m\u001b[0m\n\u001b[0;32m     10\u001b[0m \u001b[0mcv2\u001b[0m\u001b[1;33m.\u001b[0m\u001b[0mwaitKey\u001b[0m\u001b[1;33m(\u001b[0m\u001b[1;33m)\u001b[0m\u001b[1;33m\u001b[0m\u001b[1;33m\u001b[0m\u001b[0m\n\u001b[1;32m---> 11\u001b[1;33m \u001b[0mcv2\u001b[0m\u001b[1;33m.\u001b[0m\u001b[0mdestroyWindow\u001b[0m\u001b[1;33m(\u001b[0m\u001b[1;34m'Output'\u001b[0m\u001b[1;33m)\u001b[0m\u001b[1;33m\u001b[0m\u001b[1;33m\u001b[0m\u001b[0m\n\u001b[0m",
      "\u001b[1;31merror\u001b[0m: OpenCV(4.5.4-dev) D:\\a\\opencv-python\\opencv-python\\opencv\\modules\\highgui\\src\\window_w32.cpp:1261: error: (-27:Null pointer) NULL window: 'Output' in function 'cvDestroyWindow'\n"
     ]
    }
   ],
   "source": [
    "if q_pred<=0.5 :\n",
    "    target = \"Seledri\"\n",
    "else :\n",
    "    target = \"Sirih\"\n",
    "print(target)\n",
    "text = \"{}\".format(target)\n",
    "cv2.putText(output, text, (10, 30), cv2.FONT_HERSHEY_SIMPLEX, 0.7, (0, 0, 255), 2)\n",
    " \n",
    "cv2.imshow('Output', output)\n",
    "cv2.waitKey() \n",
    "cv2.destroyWindow('Output')"
   ]
  },
  {
   "cell_type": "code",
   "execution_count": 37,
   "id": "d0de253e",
   "metadata": {},
   "outputs": [],
   "source": [
    "import pickle"
   ]
  },
  {
   "cell_type": "code",
   "execution_count": 38,
   "id": "88e1cddb",
   "metadata": {},
   "outputs": [
    {
     "name": "stdout",
     "output_type": "stream",
     "text": [
      "[INFO] serializing network and label binarizer...\n"
     ]
    }
   ],
   "source": [
    "# save the model and label binarizer to disk\n",
    "print(\"[INFO] serializing network and label binarizer...\")\n",
    "model.save('daun_sirih_seledri_model_cnn.h5')\n",
    "f = open('daun_sirih_seledri_model_cnn', \"wb\")\n",
    "f.write(pickle.dumps(lb))\n",
    "f.close()"
   ]
  },
  {
   "cell_type": "code",
   "execution_count": null,
   "id": "7fcd2af1",
   "metadata": {},
   "outputs": [],
   "source": []
  }
 ],
 "metadata": {
  "kernelspec": {
   "display_name": "Python 3",
   "language": "python",
   "name": "python3"
  },
  "language_info": {
   "codemirror_mode": {
    "name": "ipython",
    "version": 3
   },
   "file_extension": ".py",
   "mimetype": "text/x-python",
   "name": "python",
   "nbconvert_exporter": "python",
   "pygments_lexer": "ipython3",
   "version": "3.8.8"
  }
 },
 "nbformat": 4,
 "nbformat_minor": 5
}
